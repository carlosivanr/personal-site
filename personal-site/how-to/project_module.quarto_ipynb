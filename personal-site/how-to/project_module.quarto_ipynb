{
  "cells": [
    {
      "cell_type": "markdown",
      "metadata": {},
      "source": [
        "---\n",
        "title: \"Create a project specific module in Python\"\n",
        "html:\n",
        "    toc: true\n",
        "\n",
        "execute:\n",
        "  eval: false\n",
        "\n",
        "jupyter: py_env\n",
        "---\n",
        "\n",
        "\n",
        "1. In venv\\Lib\\site-packages create a new folder \"my_fx\"\n",
        "2. In the my_fx folder, create a new file called \"__init__.py\"\n",
        "3. Create a new .py script that will contain your functions e.g. utilities.py, tables.py\n",
        "4. Define Python functions within the script\n",
        "5. Import functions using from [folder].[script] import [function] framework\n"
      ],
      "id": "a5b72141"
    },
    {
      "cell_type": "code",
      "metadata": {},
      "source": [
        "# Example function to format p-values in a column of a pandas data frame\n",
        "# defined in a script named utilities.py\n",
        "def format_pval_df(pvals):\n",
        "    \"\"\"\n",
        "    Format a pandas series of p-values.\n",
        "    - If p < 0.0001, return \"<0.0001\"\n",
        "    - Else, format to specified number of digits\n",
        "\n",
        "    Parameters:\n",
        "    pvals : pandas Series or array-like\n",
        "    digits : int, number of decimal digits to display\n",
        "\n",
        "    Returns:\n",
        "    Formatted pandas Series of strings\n",
        "    \"\"\"\n",
        "    digits=4\n",
        "\n",
        "    return pvals.apply(lambda p: \"<0.0001\" if p < 0.0001 else f\"{p:.{digits}f}\")"
      ],
      "id": "86d00e1d",
      "execution_count": null,
      "outputs": []
    },
    {
      "cell_type": "code",
      "metadata": {},
      "source": [
        "# Load the custom function\n",
        "from my_fx.utilities import format_pval_df"
      ],
      "id": "1f736976",
      "execution_count": null,
      "outputs": []
    }
  ],
  "metadata": {
    "kernelspec": {
      "name": "py_env",
      "language": "python",
      "display_name": "py_env",
      "path": "C:\\Users\\rodrica2\\AppData\\Roaming\\jupyter\\kernels\\py_env"
    }
  },
  "nbformat": 4,
  "nbformat_minor": 5
}